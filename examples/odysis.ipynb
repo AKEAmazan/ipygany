{
 "cells": [
  {
   "cell_type": "code",
   "execution_count": null,
   "metadata": {},
   "outputs": [],
   "source": [
    "from ipywidgets import Play, IntProgress, link, HBox\n",
    "\n",
    "from odysis import Scene, PolyMesh, TetraMesh, IsoColor"
   ]
  },
  {
   "cell_type": "code",
   "execution_count": null,
   "metadata": {},
   "outputs": [],
   "source": [
    "mesh = PolyMesh.from_vtk('fastscapelib_topography/Topography0000001.vtk')\n",
    "\n",
    "def load_step(change):\n",
    "    mesh.reload('fastscapelib_topography/Topography0000{}.vtk'.format(str(change['new']).zfill(3)), reload_vertices=True)\n",
    "\n",
    "play = Play(description='Step:', min=1, max=200, value=1)\n",
    "play.observe(load_step, names=['value'])\n",
    "\n",
    "progress = IntProgress(value=1, step=1, min=1, max=200)\n",
    "link((progress, 'value'), (play, 'value'))\n",
    "\n",
    "stepper = HBox((play, progress))\n",
    "\n",
    "iso = IsoColor(mesh, input=('H', 'X1'), min=0., max=1003.)"
   ]
  },
  {
   "cell_type": "code",
   "execution_count": null,
   "metadata": {},
   "outputs": [],
   "source": [
    "scene = Scene([iso])\n",
    "\n",
    "scene"
   ]
  },
  {
   "cell_type": "code",
   "execution_count": null,
   "metadata": {},
   "outputs": [],
   "source": [
    "scene"
   ]
  },
  {
   "cell_type": "code",
   "execution_count": null,
   "metadata": {},
   "outputs": [],
   "source": [
    "iso.min = 500"
   ]
  },
  {
   "cell_type": "code",
   "execution_count": null,
   "metadata": {},
   "outputs": [],
   "source": [
    "scene.background_color = 'aliceblue'"
   ]
  },
  {
   "cell_type": "code",
   "execution_count": null,
   "metadata": {},
   "outputs": [],
   "source": [
    "stepper"
   ]
  },
  {
   "cell_type": "code",
   "execution_count": null,
   "metadata": {},
   "outputs": [],
   "source": [
    "mesh2 = TetraMesh.from_vtk('piston.vtu')\n",
    "\n",
    "scene2 = Scene([mesh2])\n",
    "scene2"
   ]
  }
 ],
 "metadata": {
  "kernelspec": {
   "display_name": "Python 3",
   "language": "python",
   "name": "python3"
  },
  "language_info": {
   "codemirror_mode": {
    "name": "ipython",
    "version": 3
   },
   "file_extension": ".py",
   "mimetype": "text/x-python",
   "name": "python",
   "nbconvert_exporter": "python",
   "pygments_lexer": "ipython3",
   "version": "3.8.0"
  }
 },
 "nbformat": 4,
 "nbformat_minor": 2
}
